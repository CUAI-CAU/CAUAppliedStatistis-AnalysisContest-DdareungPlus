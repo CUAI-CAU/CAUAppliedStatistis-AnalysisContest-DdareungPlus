{
 "cells": [
  {
   "cell_type": "code",
   "execution_count": 1,
   "metadata": {},
   "outputs": [],
   "source": [
    "import numpy as np\n",
    "import pandas as pd"
   ]
  },
  {
   "cell_type": "code",
   "execution_count": 2,
   "metadata": {
    "scrolled": true
   },
   "outputs": [
    {
     "data": {
      "text/html": [
       "<div>\n",
       "<style scoped>\n",
       "    .dataframe tbody tr th:only-of-type {\n",
       "        vertical-align: middle;\n",
       "    }\n",
       "\n",
       "    .dataframe tbody tr th {\n",
       "        vertical-align: top;\n",
       "    }\n",
       "\n",
       "    .dataframe thead th {\n",
       "        text-align: right;\n",
       "    }\n",
       "</style>\n",
       "<table border=\"1\" class=\"dataframe\">\n",
       "  <thead>\n",
       "    <tr style=\"text-align: right;\">\n",
       "      <th></th>\n",
       "      <th>cluster</th>\n",
       "      <th>number</th>\n",
       "      <th>tsp route</th>\n",
       "      <th>distance</th>\n",
       "    </tr>\n",
       "  </thead>\n",
       "  <tbody>\n",
       "    <tr>\n",
       "      <th>0</th>\n",
       "      <td>A</td>\n",
       "      <td>8</td>\n",
       "      <td>1, 2, 3, 7, 5, 8, 4, 6, 1</td>\n",
       "      <td>4.497520</td>\n",
       "    </tr>\n",
       "    <tr>\n",
       "      <th>1</th>\n",
       "      <td>B</td>\n",
       "      <td>13</td>\n",
       "      <td>1, 5, 2, 4, 3, 10, 8, 11, 12, 6, 7, 13, 9, 1</td>\n",
       "      <td>4.065258</td>\n",
       "    </tr>\n",
       "    <tr>\n",
       "      <th>2</th>\n",
       "      <td>C</td>\n",
       "      <td>15</td>\n",
       "      <td>1, 8, 5, 12, 14, 15, 11, 13, 3, 7, 6, 9, 4, 2,...</td>\n",
       "      <td>6.067822</td>\n",
       "    </tr>\n",
       "  </tbody>\n",
       "</table>\n",
       "</div>"
      ],
      "text/plain": [
       "  cluster  number                                          tsp route  distance\n",
       "0       A       8                          1, 2, 3, 7, 5, 8, 4, 6, 1  4.497520\n",
       "1       B      13       1, 5, 2, 4, 3, 10, 8, 11, 12, 6, 7, 13, 9, 1  4.065258\n",
       "2       C      15  1, 8, 5, 12, 14, 15, 11, 13, 3, 7, 6, 9, 4, 2,...  6.067822"
      ]
     },
     "execution_count": 2,
     "metadata": {},
     "output_type": "execute_result"
    }
   ],
   "source": [
    "df = pd.read_excel('./tsp_(중구, 23, 6-10).xlsx', sheet_name='k=3')\n",
    "df"
   ]
  },
  {
   "cell_type": "code",
   "execution_count": 3,
   "metadata": {
    "scrolled": true
   },
   "outputs": [
    {
     "data": {
      "text/html": [
       "<div>\n",
       "<style scoped>\n",
       "    .dataframe tbody tr th:only-of-type {\n",
       "        vertical-align: middle;\n",
       "    }\n",
       "\n",
       "    .dataframe tbody tr th {\n",
       "        vertical-align: top;\n",
       "    }\n",
       "\n",
       "    .dataframe thead th {\n",
       "        text-align: right;\n",
       "    }\n",
       "</style>\n",
       "<table border=\"1\" class=\"dataframe\">\n",
       "  <thead>\n",
       "    <tr style=\"text-align: right;\">\n",
       "      <th></th>\n",
       "      <th>cluster</th>\n",
       "      <th>number</th>\n",
       "      <th>tsp route</th>\n",
       "      <th>distance</th>\n",
       "      <th>truck type</th>\n",
       "      <th>cost</th>\n",
       "    </tr>\n",
       "  </thead>\n",
       "  <tbody>\n",
       "    <tr>\n",
       "      <th>0</th>\n",
       "      <td>A</td>\n",
       "      <td>8</td>\n",
       "      <td>1, 2, 3, 7, 5, 8, 4, 6, 1</td>\n",
       "      <td>4.497520</td>\n",
       "      <td>1.0t</td>\n",
       "      <td>94258.467027</td>\n",
       "    </tr>\n",
       "    <tr>\n",
       "      <th>1</th>\n",
       "      <td>B</td>\n",
       "      <td>13</td>\n",
       "      <td>1, 5, 2, 4, 3, 10, 8, 11, 12, 6, 7, 13, 9, 1</td>\n",
       "      <td>4.065258</td>\n",
       "      <td>2.5t</td>\n",
       "      <td>97046.960226</td>\n",
       "    </tr>\n",
       "    <tr>\n",
       "      <th>2</th>\n",
       "      <td>C</td>\n",
       "      <td>15</td>\n",
       "      <td>1, 8, 5, 12, 14, 15, 11, 13, 3, 7, 6, 9, 4, 2,...</td>\n",
       "      <td>6.067822</td>\n",
       "      <td>2.5t</td>\n",
       "      <td>97439.444961</td>\n",
       "    </tr>\n",
       "  </tbody>\n",
       "</table>\n",
       "</div>"
      ],
      "text/plain": [
       "  cluster  number                                          tsp route  \\\n",
       "0       A       8                          1, 2, 3, 7, 5, 8, 4, 6, 1   \n",
       "1       B      13       1, 5, 2, 4, 3, 10, 8, 11, 12, 6, 7, 13, 9, 1   \n",
       "2       C      15  1, 8, 5, 12, 14, 15, 11, 13, 3, 7, 6, 9, 4, 2,...   \n",
       "\n",
       "   distance truck type          cost  \n",
       "0  4.497520       1.0t  94258.467027  \n",
       "1  4.065258       2.5t  97046.960226  \n",
       "2  6.067822       2.5t  97439.444961  "
      ]
     },
     "execution_count": 3,
     "metadata": {},
     "output_type": "execute_result"
    }
   ],
   "source": [
    "#n : cluster 내 대여소 갯수\n",
    "for i in range(len(df)):\n",
    "    n=df.iloc[i, 1]\n",
    "    d=df.iloc[i, 3]\n",
    "    if n>=10:\n",
    "        비용1=(d/6.8)*1332.74 + 23013.75*4 + 51450000/(16.8*365*2)\n",
    "        df.loc[i,'truck type']='2.5t'\n",
    "        df.loc[i, 'cost']=비용1\n",
    "    else: \n",
    "        비용2=(d/8.5)*1332.74 + 23013.75*4 + 18375000/(16.8*365*2)\n",
    "        df.loc[i,'truck type']='1.0t'\n",
    "        df.loc[i, 'cost']=비용2\n",
    "df"
   ]
  },
  {
   "cell_type": "code",
   "execution_count": 4,
   "metadata": {},
   "outputs": [
    {
     "data": {
      "text/plain": [
       "14.63059957018094"
      ]
     },
     "execution_count": 4,
     "metadata": {},
     "output_type": "execute_result"
    }
   ],
   "source": [
    "#total distance\n",
    "a=0\n",
    "for i in range(len(df)):\n",
    "    a+=df.loc[i, 'distance']\n",
    "a"
   ]
  },
  {
   "cell_type": "code",
   "execution_count": 5,
   "metadata": {},
   "outputs": [
    {
     "data": {
      "text/plain": [
       "288744.8722134343"
      ]
     },
     "execution_count": 5,
     "metadata": {},
     "output_type": "execute_result"
    }
   ],
   "source": [
    "#total cost\n",
    "b=0\n",
    "for i in range(len(df)):\n",
    "    b+=df.loc[i, 'cost']\n",
    "b"
   ]
  }
 ],
 "metadata": {
  "kernelspec": {
   "display_name": "Python 3",
   "language": "python",
   "name": "python3"
  },
  "language_info": {
   "codemirror_mode": {
    "name": "ipython",
    "version": 3
   },
   "file_extension": ".py",
   "mimetype": "text/x-python",
   "name": "python",
   "nbconvert_exporter": "python",
   "pygments_lexer": "ipython3",
   "version": "3.8.5"
  }
 },
 "nbformat": 4,
 "nbformat_minor": 4
}
