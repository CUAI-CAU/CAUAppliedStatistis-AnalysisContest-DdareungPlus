{
 "cells": [
  {
   "cell_type": "code",
   "execution_count": 1,
   "metadata": {},
   "outputs": [],
   "source": [
    "import numpy as np\n",
    "import pandas as pd"
   ]
  },
  {
   "cell_type": "code",
   "execution_count": 2,
   "metadata": {
    "scrolled": true
   },
   "outputs": [
    {
     "data": {
      "text/html": [
       "<div>\n",
       "<style scoped>\n",
       "    .dataframe tbody tr th:only-of-type {\n",
       "        vertical-align: middle;\n",
       "    }\n",
       "\n",
       "    .dataframe tbody tr th {\n",
       "        vertical-align: top;\n",
       "    }\n",
       "\n",
       "    .dataframe thead th {\n",
       "        text-align: right;\n",
       "    }\n",
       "</style>\n",
       "<table border=\"1\" class=\"dataframe\">\n",
       "  <thead>\n",
       "    <tr style=\"text-align: right;\">\n",
       "      <th></th>\n",
       "      <th>cluster</th>\n",
       "      <th>number</th>\n",
       "      <th>tsp route</th>\n",
       "      <th>distance</th>\n",
       "    </tr>\n",
       "  </thead>\n",
       "  <tbody>\n",
       "    <tr>\n",
       "      <th>0</th>\n",
       "      <td>A</td>\n",
       "      <td>7</td>\n",
       "      <td>1, 6, 4, 7, 5, 3, 2, 1</td>\n",
       "      <td>3.896194</td>\n",
       "    </tr>\n",
       "    <tr>\n",
       "      <th>1</th>\n",
       "      <td>B</td>\n",
       "      <td>9</td>\n",
       "      <td>1, 2, 4, 3, 8, 7, 6, 9, 5, 1</td>\n",
       "      <td>2.694156</td>\n",
       "    </tr>\n",
       "    <tr>\n",
       "      <th>2</th>\n",
       "      <td>C</td>\n",
       "      <td>10</td>\n",
       "      <td>1, 6, 4, 2, 9, 5, 7, 8, 3, 10, 1</td>\n",
       "      <td>2.691666</td>\n",
       "    </tr>\n",
       "    <tr>\n",
       "      <th>3</th>\n",
       "      <td>D</td>\n",
       "      <td>10</td>\n",
       "      <td>1, 4, 5, 3, 7, 9, 10, 6, 8, 2, 1</td>\n",
       "      <td>4.232430</td>\n",
       "    </tr>\n",
       "  </tbody>\n",
       "</table>\n",
       "</div>"
      ],
      "text/plain": [
       "  cluster  number                         tsp route  distance\n",
       "0       A       7            1, 6, 4, 7, 5, 3, 2, 1  3.896194\n",
       "1       B       9      1, 2, 4, 3, 8, 7, 6, 9, 5, 1  2.694156\n",
       "2       C      10  1, 6, 4, 2, 9, 5, 7, 8, 3, 10, 1  2.691666\n",
       "3       D      10  1, 4, 5, 3, 7, 9, 10, 6, 8, 2, 1  4.232430"
      ]
     },
     "execution_count": 2,
     "metadata": {},
     "output_type": "execute_result"
    }
   ],
   "source": [
    "df = pd.read_excel('./tsp_(중구, 23, 6-10).xlsx', sheet_name='k=4')\n",
    "df"
   ]
  },
  {
   "cell_type": "code",
   "execution_count": 3,
   "metadata": {
    "scrolled": true
   },
   "outputs": [
    {
     "data": {
      "text/html": [
       "<div>\n",
       "<style scoped>\n",
       "    .dataframe tbody tr th:only-of-type {\n",
       "        vertical-align: middle;\n",
       "    }\n",
       "\n",
       "    .dataframe tbody tr th {\n",
       "        vertical-align: top;\n",
       "    }\n",
       "\n",
       "    .dataframe thead th {\n",
       "        text-align: right;\n",
       "    }\n",
       "</style>\n",
       "<table border=\"1\" class=\"dataframe\">\n",
       "  <thead>\n",
       "    <tr style=\"text-align: right;\">\n",
       "      <th></th>\n",
       "      <th>cluster</th>\n",
       "      <th>number</th>\n",
       "      <th>tsp route</th>\n",
       "      <th>distance</th>\n",
       "      <th>truck type</th>\n",
       "      <th>cost</th>\n",
       "    </tr>\n",
       "  </thead>\n",
       "  <tbody>\n",
       "    <tr>\n",
       "      <th>0</th>\n",
       "      <td>A</td>\n",
       "      <td>7</td>\n",
       "      <td>1, 6, 4, 7, 5, 3, 2, 1</td>\n",
       "      <td>3.896194</td>\n",
       "      <td>1.0t</td>\n",
       "      <td>94164.183370</td>\n",
       "    </tr>\n",
       "    <tr>\n",
       "      <th>1</th>\n",
       "      <td>B</td>\n",
       "      <td>9</td>\n",
       "      <td>1, 2, 4, 3, 8, 7, 6, 9, 5, 1</td>\n",
       "      <td>2.694156</td>\n",
       "      <td>1.0t</td>\n",
       "      <td>93975.712371</td>\n",
       "    </tr>\n",
       "    <tr>\n",
       "      <th>2</th>\n",
       "      <td>C</td>\n",
       "      <td>10</td>\n",
       "      <td>1, 6, 4, 2, 9, 5, 7, 8, 3, 10, 1</td>\n",
       "      <td>2.691666</td>\n",
       "      <td>2.5t</td>\n",
       "      <td>96777.748254</td>\n",
       "    </tr>\n",
       "    <tr>\n",
       "      <th>3</th>\n",
       "      <td>D</td>\n",
       "      <td>10</td>\n",
       "      <td>1, 4, 5, 3, 7, 9, 10, 6, 8, 2, 1</td>\n",
       "      <td>4.232430</td>\n",
       "      <td>2.5t</td>\n",
       "      <td>97079.724504</td>\n",
       "    </tr>\n",
       "  </tbody>\n",
       "</table>\n",
       "</div>"
      ],
      "text/plain": [
       "  cluster  number                         tsp route  distance truck type  \\\n",
       "0       A       7            1, 6, 4, 7, 5, 3, 2, 1  3.896194       1.0t   \n",
       "1       B       9      1, 2, 4, 3, 8, 7, 6, 9, 5, 1  2.694156       1.0t   \n",
       "2       C      10  1, 6, 4, 2, 9, 5, 7, 8, 3, 10, 1  2.691666       2.5t   \n",
       "3       D      10  1, 4, 5, 3, 7, 9, 10, 6, 8, 2, 1  4.232430       2.5t   \n",
       "\n",
       "           cost  \n",
       "0  94164.183370  \n",
       "1  93975.712371  \n",
       "2  96777.748254  \n",
       "3  97079.724504  "
      ]
     },
     "execution_count": 3,
     "metadata": {},
     "output_type": "execute_result"
    }
   ],
   "source": [
    "#n : cluster 내 대여소 갯수\n",
    "for i in range(len(df)):\n",
    "    n=df.iloc[i, 1]\n",
    "    d=df.iloc[i, 3]\n",
    "    if n>=10:\n",
    "        비용1=(d/6.8)*1332.74 + 23013.75*4 + 51450000/(16.8*365*2)\n",
    "        df.loc[i,'truck type']='2.5t'\n",
    "        df.loc[i, 'cost']=비용1\n",
    "    else: \n",
    "        비용2=(d/8.5)*1332.74 + 23013.75*4 + 18375000/(16.8*365*2)\n",
    "        df.loc[i,'truck type']='1.0t'\n",
    "        df.loc[i, 'cost']=비용2\n",
    "df"
   ]
  },
  {
   "cell_type": "code",
   "execution_count": 4,
   "metadata": {},
   "outputs": [
    {
     "data": {
      "text/plain": [
       "13.51444663951698"
      ]
     },
     "execution_count": 4,
     "metadata": {},
     "output_type": "execute_result"
    }
   ],
   "source": [
    "#total distance\n",
    "a=0\n",
    "for i in range(len(df)):\n",
    "    a+=df.loc[i, 'distance']\n",
    "a"
   ]
  },
  {
   "cell_type": "code",
   "execution_count": 5,
   "metadata": {},
   "outputs": [
    {
     "data": {
      "text/plain": [
       "381997.3684980738"
      ]
     },
     "execution_count": 5,
     "metadata": {},
     "output_type": "execute_result"
    }
   ],
   "source": [
    "#total cost\n",
    "b=0\n",
    "for i in range(len(df)):\n",
    "    b+=df.loc[i, 'cost']\n",
    "b"
   ]
  }
 ],
 "metadata": {
  "kernelspec": {
   "display_name": "Python 3",
   "language": "python",
   "name": "python3"
  },
  "language_info": {
   "codemirror_mode": {
    "name": "ipython",
    "version": 3
   },
   "file_extension": ".py",
   "mimetype": "text/x-python",
   "name": "python",
   "nbconvert_exporter": "python",
   "pygments_lexer": "ipython3",
   "version": "3.8.5"
  }
 },
 "nbformat": 4,
 "nbformat_minor": 4
}
