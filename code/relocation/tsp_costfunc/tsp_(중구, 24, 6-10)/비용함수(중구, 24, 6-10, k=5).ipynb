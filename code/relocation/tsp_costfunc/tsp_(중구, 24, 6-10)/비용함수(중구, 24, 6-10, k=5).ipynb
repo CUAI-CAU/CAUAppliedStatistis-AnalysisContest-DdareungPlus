{
 "cells": [
  {
   "cell_type": "code",
   "execution_count": 1,
   "metadata": {},
   "outputs": [],
   "source": [
    "import numpy as np\n",
    "import pandas as pd"
   ]
  },
  {
   "cell_type": "code",
   "execution_count": 2,
   "metadata": {
    "scrolled": true
   },
   "outputs": [
    {
     "data": {
      "text/html": [
       "<div>\n",
       "<style scoped>\n",
       "    .dataframe tbody tr th:only-of-type {\n",
       "        vertical-align: middle;\n",
       "    }\n",
       "\n",
       "    .dataframe tbody tr th {\n",
       "        vertical-align: top;\n",
       "    }\n",
       "\n",
       "    .dataframe thead th {\n",
       "        text-align: right;\n",
       "    }\n",
       "</style>\n",
       "<table border=\"1\" class=\"dataframe\">\n",
       "  <thead>\n",
       "    <tr style=\"text-align: right;\">\n",
       "      <th></th>\n",
       "      <th>cluster</th>\n",
       "      <th>number</th>\n",
       "      <th>tsp route</th>\n",
       "      <th>distance</th>\n",
       "    </tr>\n",
       "  </thead>\n",
       "  <tbody>\n",
       "    <tr>\n",
       "      <th>0</th>\n",
       "      <td>A</td>\n",
       "      <td>7</td>\n",
       "      <td>1, 4, 3, 6, 2, 7, 5, 1</td>\n",
       "      <td>2.902499</td>\n",
       "    </tr>\n",
       "    <tr>\n",
       "      <th>1</th>\n",
       "      <td>B</td>\n",
       "      <td>5</td>\n",
       "      <td>1, 2, 3, 4, 5, 1</td>\n",
       "      <td>4.200455</td>\n",
       "    </tr>\n",
       "    <tr>\n",
       "      <th>2</th>\n",
       "      <td>C</td>\n",
       "      <td>3</td>\n",
       "      <td>1, 2, 3, 1</td>\n",
       "      <td>0.983152</td>\n",
       "    </tr>\n",
       "    <tr>\n",
       "      <th>3</th>\n",
       "      <td>D</td>\n",
       "      <td>6</td>\n",
       "      <td>1, 2, 5, 6, 4, 3, 1</td>\n",
       "      <td>2.370719</td>\n",
       "    </tr>\n",
       "    <tr>\n",
       "      <th>4</th>\n",
       "      <td>E</td>\n",
       "      <td>9</td>\n",
       "      <td>1, 2, 8, 5, 9, 7, 6, 4, 3, 1</td>\n",
       "      <td>4.052855</td>\n",
       "    </tr>\n",
       "  </tbody>\n",
       "</table>\n",
       "</div>"
      ],
      "text/plain": [
       "  cluster  number                     tsp route  distance\n",
       "0       A       7        1, 4, 3, 6, 2, 7, 5, 1  2.902499\n",
       "1       B       5              1, 2, 3, 4, 5, 1  4.200455\n",
       "2       C       3                    1, 2, 3, 1  0.983152\n",
       "3       D       6           1, 2, 5, 6, 4, 3, 1  2.370719\n",
       "4       E       9  1, 2, 8, 5, 9, 7, 6, 4, 3, 1  4.052855"
      ]
     },
     "execution_count": 2,
     "metadata": {},
     "output_type": "execute_result"
    }
   ],
   "source": [
    "df = pd.read_excel('./tsp_(중구, 24, 6-10).xlsx', sheet_name='k=5')\n",
    "df"
   ]
  },
  {
   "cell_type": "code",
   "execution_count": 3,
   "metadata": {
    "scrolled": true
   },
   "outputs": [
    {
     "data": {
      "text/html": [
       "<div>\n",
       "<style scoped>\n",
       "    .dataframe tbody tr th:only-of-type {\n",
       "        vertical-align: middle;\n",
       "    }\n",
       "\n",
       "    .dataframe tbody tr th {\n",
       "        vertical-align: top;\n",
       "    }\n",
       "\n",
       "    .dataframe thead th {\n",
       "        text-align: right;\n",
       "    }\n",
       "</style>\n",
       "<table border=\"1\" class=\"dataframe\">\n",
       "  <thead>\n",
       "    <tr style=\"text-align: right;\">\n",
       "      <th></th>\n",
       "      <th>cluster</th>\n",
       "      <th>number</th>\n",
       "      <th>tsp route</th>\n",
       "      <th>distance</th>\n",
       "      <th>truck type</th>\n",
       "      <th>cost</th>\n",
       "    </tr>\n",
       "  </thead>\n",
       "  <tbody>\n",
       "    <tr>\n",
       "      <th>0</th>\n",
       "      <td>A</td>\n",
       "      <td>7</td>\n",
       "      <td>1, 4, 3, 6, 2, 7, 5, 1</td>\n",
       "      <td>2.902499</td>\n",
       "      <td>1.0t</td>\n",
       "      <td>94008.379054</td>\n",
       "    </tr>\n",
       "    <tr>\n",
       "      <th>1</th>\n",
       "      <td>B</td>\n",
       "      <td>5</td>\n",
       "      <td>1, 2, 3, 4, 5, 1</td>\n",
       "      <td>4.200455</td>\n",
       "      <td>1.0t</td>\n",
       "      <td>94211.889443</td>\n",
       "    </tr>\n",
       "    <tr>\n",
       "      <th>2</th>\n",
       "      <td>C</td>\n",
       "      <td>3</td>\n",
       "      <td>1, 2, 3, 1</td>\n",
       "      <td>0.983152</td>\n",
       "      <td>1.0t</td>\n",
       "      <td>93707.438892</td>\n",
       "    </tr>\n",
       "    <tr>\n",
       "      <th>3</th>\n",
       "      <td>D</td>\n",
       "      <td>6</td>\n",
       "      <td>1, 2, 5, 6, 4, 3, 1</td>\n",
       "      <td>2.370719</td>\n",
       "      <td>1.0t</td>\n",
       "      <td>93924.999648</td>\n",
       "    </tr>\n",
       "    <tr>\n",
       "      <th>4</th>\n",
       "      <td>E</td>\n",
       "      <td>9</td>\n",
       "      <td>1, 2, 8, 5, 9, 7, 6, 4, 3, 1</td>\n",
       "      <td>4.052855</td>\n",
       "      <td>1.0t</td>\n",
       "      <td>94188.746763</td>\n",
       "    </tr>\n",
       "  </tbody>\n",
       "</table>\n",
       "</div>"
      ],
      "text/plain": [
       "  cluster  number                     tsp route  distance truck type  \\\n",
       "0       A       7        1, 4, 3, 6, 2, 7, 5, 1  2.902499       1.0t   \n",
       "1       B       5              1, 2, 3, 4, 5, 1  4.200455       1.0t   \n",
       "2       C       3                    1, 2, 3, 1  0.983152       1.0t   \n",
       "3       D       6           1, 2, 5, 6, 4, 3, 1  2.370719       1.0t   \n",
       "4       E       9  1, 2, 8, 5, 9, 7, 6, 4, 3, 1  4.052855       1.0t   \n",
       "\n",
       "           cost  \n",
       "0  94008.379054  \n",
       "1  94211.889443  \n",
       "2  93707.438892  \n",
       "3  93924.999648  \n",
       "4  94188.746763  "
      ]
     },
     "execution_count": 3,
     "metadata": {},
     "output_type": "execute_result"
    }
   ],
   "source": [
    "#n : cluster 내 대여소 갯수\n",
    "for i in range(len(df)):\n",
    "    n=df.iloc[i, 1]\n",
    "    d=df.iloc[i, 3]\n",
    "    if n>=10:\n",
    "        비용1=(d/6.8)*1332.74 + 23013.75*4 + 51450000/(16.8*365*2)\n",
    "        df.loc[i,'truck type']='2.5t'\n",
    "        df.loc[i, 'cost']=비용1\n",
    "    else: \n",
    "        비용2=(d/8.5)*1332.74 + 23013.75*4 + 18375000/(16.8*365*2)\n",
    "        df.loc[i,'truck type']='1.0t'\n",
    "        df.loc[i, 'cost']=비용2\n",
    "df"
   ]
  },
  {
   "cell_type": "code",
   "execution_count": 4,
   "metadata": {},
   "outputs": [
    {
     "data": {
      "text/plain": [
       "14.509680265151928"
      ]
     },
     "execution_count": 4,
     "metadata": {},
     "output_type": "execute_result"
    }
   ],
   "source": [
    "#total distance\n",
    "a=0\n",
    "for i in range(len(df)):\n",
    "    a+=df.loc[i, 'distance']\n",
    "a"
   ]
  },
  {
   "cell_type": "code",
   "execution_count": 5,
   "metadata": {},
   "outputs": [
    {
     "data": {
      "text/plain": [
       "470041.4538004677"
      ]
     },
     "execution_count": 5,
     "metadata": {},
     "output_type": "execute_result"
    }
   ],
   "source": [
    "#total cost\n",
    "b=0\n",
    "for i in range(len(df)):\n",
    "    b+=df.loc[i, 'cost']\n",
    "b"
   ]
  }
 ],
 "metadata": {
  "kernelspec": {
   "display_name": "Python 3",
   "language": "python",
   "name": "python3"
  },
  "language_info": {
   "codemirror_mode": {
    "name": "ipython",
    "version": 3
   },
   "file_extension": ".py",
   "mimetype": "text/x-python",
   "name": "python",
   "nbconvert_exporter": "python",
   "pygments_lexer": "ipython3",
   "version": "3.8.5"
  }
 },
 "nbformat": 4,
 "nbformat_minor": 4
}
