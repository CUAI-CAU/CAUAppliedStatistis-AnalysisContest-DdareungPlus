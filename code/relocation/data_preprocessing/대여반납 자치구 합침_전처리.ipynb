{
 "cells": [
  {
   "cell_type": "code",
   "execution_count": 1,
   "id": "cd73920c",
   "metadata": {},
   "outputs": [],
   "source": [
    "import pandas as pd\n",
    "import numpy as np\n",
    "from io import StringIO"
   ]
  },
  {
   "cell_type": "code",
   "execution_count": 2,
   "id": "86ed7911",
   "metadata": {},
   "outputs": [],
   "source": [
    "#import warnings\n",
    "#warnings.filterwarnings(action='ignore')\n",
    "#warnings.filterwarnings(action='default')"
   ]
  },
  {
   "cell_type": "code",
   "execution_count": 3,
   "id": "59663061",
   "metadata": {},
   "outputs": [
    {
     "name": "stderr",
     "output_type": "stream",
     "text": [
      "C:\\ProgramData\\Anaconda3\\lib\\site-packages\\IPython\\core\\interactiveshell.py:3146: DtypeWarning: Columns (4,6) have mixed types.Specify dtype option on import or set low_memory=False.\n",
      "  has_raised = await self.run_ast_nodes(code_ast.body, cell_name,\n"
     ]
    },
    {
     "data": {
      "text/html": [
       "<div>\n",
       "<style scoped>\n",
       "    .dataframe tbody tr th:only-of-type {\n",
       "        vertical-align: middle;\n",
       "    }\n",
       "\n",
       "    .dataframe tbody tr th {\n",
       "        vertical-align: top;\n",
       "    }\n",
       "\n",
       "    .dataframe thead th {\n",
       "        text-align: right;\n",
       "    }\n",
       "</style>\n",
       "<table border=\"1\" class=\"dataframe\">\n",
       "  <thead>\n",
       "    <tr style=\"text-align: right;\">\n",
       "      <th></th>\n",
       "      <th>자전거번호</th>\n",
       "      <th>대여일시</th>\n",
       "      <th>대여 대여소번호</th>\n",
       "      <th>대여 대여소명</th>\n",
       "      <th>대여거치대</th>\n",
       "      <th>반납일시</th>\n",
       "      <th>반납대여소번호</th>\n",
       "      <th>반납대여소명</th>\n",
       "      <th>반납거치대</th>\n",
       "      <th>이용시간</th>\n",
       "      <th>이용거리</th>\n",
       "    </tr>\n",
       "  </thead>\n",
       "  <tbody>\n",
       "    <tr>\n",
       "      <th>0</th>\n",
       "      <td>SPB-30385</td>\n",
       "      <td>2021-05-31 23:07:00</td>\n",
       "      <td>3571</td>\n",
       "      <td>화양 APT(횡단보도 옆)</td>\n",
       "      <td>0</td>\n",
       "      <td>2021-06-01 00:00:00</td>\n",
       "      <td>3538</td>\n",
       "      <td>서울숲 IT캐슬</td>\n",
       "      <td>0</td>\n",
       "      <td>53.0</td>\n",
       "      <td>2502.80</td>\n",
       "    </tr>\n",
       "    <tr>\n",
       "      <th>1</th>\n",
       "      <td>SPB-46321</td>\n",
       "      <td>2021-05-31 23:37:19</td>\n",
       "      <td>1911</td>\n",
       "      <td>구로디지털단지역 앞</td>\n",
       "      <td>0</td>\n",
       "      <td>2021-06-01 00:00:02</td>\n",
       "      <td>1843</td>\n",
       "      <td>독산고등학교</td>\n",
       "      <td>0</td>\n",
       "      <td>22.0</td>\n",
       "      <td>1630.00</td>\n",
       "    </tr>\n",
       "    <tr>\n",
       "      <th>2</th>\n",
       "      <td>SPB-48119</td>\n",
       "      <td>2021-05-31 23:48:40</td>\n",
       "      <td>3860</td>\n",
       "      <td>건국대학교 정문 앞</td>\n",
       "      <td>0</td>\n",
       "      <td>2021-06-01 00:00:03</td>\n",
       "      <td>3586</td>\n",
       "      <td>군자역 비채온 오피스텔</td>\n",
       "      <td>0</td>\n",
       "      <td>11.0</td>\n",
       "      <td>1420.00</td>\n",
       "    </tr>\n",
       "    <tr>\n",
       "      <th>3</th>\n",
       "      <td>SPB-55360</td>\n",
       "      <td>2021-05-31 23:47:52</td>\n",
       "      <td>2222</td>\n",
       "      <td>사당역 12번출구 뒤</td>\n",
       "      <td>0</td>\n",
       "      <td>2021-06-01 00:00:05</td>\n",
       "      <td>2228</td>\n",
       "      <td>뒷벌공원 옆</td>\n",
       "      <td>0</td>\n",
       "      <td>12.0</td>\n",
       "      <td>1350.00</td>\n",
       "    </tr>\n",
       "    <tr>\n",
       "      <th>4</th>\n",
       "      <td>SPB-54699</td>\n",
       "      <td>2021-05-31 23:51:14</td>\n",
       "      <td>1955</td>\n",
       "      <td>디지털입구 교차로</td>\n",
       "      <td>0</td>\n",
       "      <td>2021-06-01 00:00:08</td>\n",
       "      <td>1856</td>\n",
       "      <td>모두의학교</td>\n",
       "      <td>0</td>\n",
       "      <td>8.0</td>\n",
       "      <td>930.00</td>\n",
       "    </tr>\n",
       "    <tr>\n",
       "      <th>...</th>\n",
       "      <td>...</td>\n",
       "      <td>...</td>\n",
       "      <td>...</td>\n",
       "      <td>...</td>\n",
       "      <td>...</td>\n",
       "      <td>...</td>\n",
       "      <td>...</td>\n",
       "      <td>...</td>\n",
       "      <td>...</td>\n",
       "      <td>...</td>\n",
       "      <td>...</td>\n",
       "    </tr>\n",
       "    <tr>\n",
       "      <th>3445939</th>\n",
       "      <td>SPB-36886</td>\n",
       "      <td>2021-06-30 22:44:14</td>\n",
       "      <td>152</td>\n",
       "      <td>마포구민체육센터 앞</td>\n",
       "      <td>0</td>\n",
       "      <td>2021-07-01 04:48:33</td>\n",
       "      <td>126</td>\n",
       "      <td>서강대 후문 옆</td>\n",
       "      <td>0</td>\n",
       "      <td>364.0</td>\n",
       "      <td>10153.36</td>\n",
       "    </tr>\n",
       "    <tr>\n",
       "      <th>3445940</th>\n",
       "      <td>SPB-30409</td>\n",
       "      <td>2021-06-30 22:45:19</td>\n",
       "      <td>152</td>\n",
       "      <td>마포구민체육센터 앞</td>\n",
       "      <td>0</td>\n",
       "      <td>2021-07-01 04:52:25</td>\n",
       "      <td>437</td>\n",
       "      <td>대흥역 1번출구</td>\n",
       "      <td>0</td>\n",
       "      <td>367.0</td>\n",
       "      <td>10100.71</td>\n",
       "    </tr>\n",
       "    <tr>\n",
       "      <th>3445941</th>\n",
       "      <td>SPB-46230</td>\n",
       "      <td>2021-06-30 22:43:43</td>\n",
       "      <td>152</td>\n",
       "      <td>마포구민체육센터 앞</td>\n",
       "      <td>0</td>\n",
       "      <td>2021-07-01 04:52:27</td>\n",
       "      <td>437</td>\n",
       "      <td>대흥역 1번출구</td>\n",
       "      <td>0</td>\n",
       "      <td>368.0</td>\n",
       "      <td>430.00</td>\n",
       "    </tr>\n",
       "    <tr>\n",
       "      <th>3445942</th>\n",
       "      <td>SPB-41691</td>\n",
       "      <td>2021-06-30 22:11:14</td>\n",
       "      <td>2220</td>\n",
       "      <td>반포본동 주민센터 앞</td>\n",
       "      <td>0</td>\n",
       "      <td>2021-07-01 04:55:29</td>\n",
       "      <td>2526</td>\n",
       "      <td>반포경남쇼핑 앞</td>\n",
       "      <td>0</td>\n",
       "      <td>404.0</td>\n",
       "      <td>0.00</td>\n",
       "    </tr>\n",
       "    <tr>\n",
       "      <th>3445943</th>\n",
       "      <td>SPB-52274</td>\n",
       "      <td>2021-06-30 22:12:10</td>\n",
       "      <td>2220</td>\n",
       "      <td>반포본동 주민센터 앞</td>\n",
       "      <td>0</td>\n",
       "      <td>2021-07-01 04:55:30</td>\n",
       "      <td>2526</td>\n",
       "      <td>반포경남쇼핑 앞</td>\n",
       "      <td>0</td>\n",
       "      <td>403.0</td>\n",
       "      <td>4541.22</td>\n",
       "    </tr>\n",
       "  </tbody>\n",
       "</table>\n",
       "<p>3445944 rows × 11 columns</p>\n",
       "</div>"
      ],
      "text/plain": [
       "             자전거번호                 대여일시  대여 대여소번호         대여 대여소명 대여거치대  \\\n",
       "0        SPB-30385  2021-05-31 23:07:00      3571  화양 APT(횡단보도 옆)     0   \n",
       "1        SPB-46321  2021-05-31 23:37:19      1911      구로디지털단지역 앞     0   \n",
       "2        SPB-48119  2021-05-31 23:48:40      3860      건국대학교 정문 앞     0   \n",
       "3        SPB-55360  2021-05-31 23:47:52      2222     사당역 12번출구 뒤     0   \n",
       "4        SPB-54699  2021-05-31 23:51:14      1955       디지털입구 교차로     0   \n",
       "...            ...                  ...       ...             ...   ...   \n",
       "3445939  SPB-36886  2021-06-30 22:44:14       152      마포구민체육센터 앞     0   \n",
       "3445940  SPB-30409  2021-06-30 22:45:19       152      마포구민체육센터 앞     0   \n",
       "3445941  SPB-46230  2021-06-30 22:43:43       152      마포구민체육센터 앞     0   \n",
       "3445942  SPB-41691  2021-06-30 22:11:14      2220     반포본동 주민센터 앞     0   \n",
       "3445943  SPB-52274  2021-06-30 22:12:10      2220     반포본동 주민센터 앞     0   \n",
       "\n",
       "                        반납일시 반납대여소번호        반납대여소명  반납거치대   이용시간      이용거리  \n",
       "0        2021-06-01 00:00:00    3538      서울숲 IT캐슬      0   53.0   2502.80  \n",
       "1        2021-06-01 00:00:02    1843        독산고등학교      0   22.0   1630.00  \n",
       "2        2021-06-01 00:00:03    3586  군자역 비채온 오피스텔      0   11.0   1420.00  \n",
       "3        2021-06-01 00:00:05    2228        뒷벌공원 옆      0   12.0   1350.00  \n",
       "4        2021-06-01 00:00:08    1856         모두의학교      0    8.0    930.00  \n",
       "...                      ...     ...           ...    ...    ...       ...  \n",
       "3445939  2021-07-01 04:48:33     126      서강대 후문 옆      0  364.0  10153.36  \n",
       "3445940  2021-07-01 04:52:25     437      대흥역 1번출구      0  367.0  10100.71  \n",
       "3445941  2021-07-01 04:52:27     437      대흥역 1번출구      0  368.0    430.00  \n",
       "3445942  2021-07-01 04:55:29    2526      반포경남쇼핑 앞      0  404.0      0.00  \n",
       "3445943  2021-07-01 04:55:30    2526      반포경남쇼핑 앞      0  403.0   4541.22  \n",
       "\n",
       "[3445944 rows x 11 columns]"
      ]
     },
     "execution_count": 3,
     "metadata": {},
     "output_type": "execute_result"
    }
   ],
   "source": [
    "대여반납이력=pd.read_csv(\"./공공자전거 대여이력 정보_2021.06 (1).csv\", encoding='cp949') ; 대여반납이력"
   ]
  },
  {
   "cell_type": "markdown",
   "id": "7dbea1cb",
   "metadata": {},
   "source": [
    "## 반납이력 df 만들기(필요한 행만 추출)"
   ]
  },
  {
   "cell_type": "code",
   "execution_count": 4,
   "id": "33018f87",
   "metadata": {},
   "outputs": [
    {
     "data": {
      "text/html": [
       "<div>\n",
       "<style scoped>\n",
       "    .dataframe tbody tr th:only-of-type {\n",
       "        vertical-align: middle;\n",
       "    }\n",
       "\n",
       "    .dataframe tbody tr th {\n",
       "        vertical-align: top;\n",
       "    }\n",
       "\n",
       "    .dataframe thead th {\n",
       "        text-align: right;\n",
       "    }\n",
       "</style>\n",
       "<table border=\"1\" class=\"dataframe\">\n",
       "  <thead>\n",
       "    <tr style=\"text-align: right;\">\n",
       "      <th></th>\n",
       "      <th>자전거번호</th>\n",
       "      <th>반납일시</th>\n",
       "      <th>반납대여소번호</th>\n",
       "    </tr>\n",
       "  </thead>\n",
       "  <tbody>\n",
       "    <tr>\n",
       "      <th>0</th>\n",
       "      <td>SPB-30385</td>\n",
       "      <td>2021-06-01 00:00:00</td>\n",
       "      <td>3538</td>\n",
       "    </tr>\n",
       "    <tr>\n",
       "      <th>1</th>\n",
       "      <td>SPB-46321</td>\n",
       "      <td>2021-06-01 00:00:02</td>\n",
       "      <td>1843</td>\n",
       "    </tr>\n",
       "    <tr>\n",
       "      <th>2</th>\n",
       "      <td>SPB-48119</td>\n",
       "      <td>2021-06-01 00:00:03</td>\n",
       "      <td>3586</td>\n",
       "    </tr>\n",
       "    <tr>\n",
       "      <th>3</th>\n",
       "      <td>SPB-55360</td>\n",
       "      <td>2021-06-01 00:00:05</td>\n",
       "      <td>2228</td>\n",
       "    </tr>\n",
       "    <tr>\n",
       "      <th>4</th>\n",
       "      <td>SPB-54699</td>\n",
       "      <td>2021-06-01 00:00:08</td>\n",
       "      <td>1856</td>\n",
       "    </tr>\n",
       "    <tr>\n",
       "      <th>...</th>\n",
       "      <td>...</td>\n",
       "      <td>...</td>\n",
       "      <td>...</td>\n",
       "    </tr>\n",
       "    <tr>\n",
       "      <th>3445939</th>\n",
       "      <td>SPB-36886</td>\n",
       "      <td>2021-07-01 04:48:33</td>\n",
       "      <td>126</td>\n",
       "    </tr>\n",
       "    <tr>\n",
       "      <th>3445940</th>\n",
       "      <td>SPB-30409</td>\n",
       "      <td>2021-07-01 04:52:25</td>\n",
       "      <td>437</td>\n",
       "    </tr>\n",
       "    <tr>\n",
       "      <th>3445941</th>\n",
       "      <td>SPB-46230</td>\n",
       "      <td>2021-07-01 04:52:27</td>\n",
       "      <td>437</td>\n",
       "    </tr>\n",
       "    <tr>\n",
       "      <th>3445942</th>\n",
       "      <td>SPB-41691</td>\n",
       "      <td>2021-07-01 04:55:29</td>\n",
       "      <td>2526</td>\n",
       "    </tr>\n",
       "    <tr>\n",
       "      <th>3445943</th>\n",
       "      <td>SPB-52274</td>\n",
       "      <td>2021-07-01 04:55:30</td>\n",
       "      <td>2526</td>\n",
       "    </tr>\n",
       "  </tbody>\n",
       "</table>\n",
       "<p>3445944 rows × 3 columns</p>\n",
       "</div>"
      ],
      "text/plain": [
       "             자전거번호                 반납일시 반납대여소번호\n",
       "0        SPB-30385  2021-06-01 00:00:00    3538\n",
       "1        SPB-46321  2021-06-01 00:00:02    1843\n",
       "2        SPB-48119  2021-06-01 00:00:03    3586\n",
       "3        SPB-55360  2021-06-01 00:00:05    2228\n",
       "4        SPB-54699  2021-06-01 00:00:08    1856\n",
       "...            ...                  ...     ...\n",
       "3445939  SPB-36886  2021-07-01 04:48:33     126\n",
       "3445940  SPB-30409  2021-07-01 04:52:25     437\n",
       "3445941  SPB-46230  2021-07-01 04:52:27     437\n",
       "3445942  SPB-41691  2021-07-01 04:55:29    2526\n",
       "3445943  SPB-52274  2021-07-01 04:55:30    2526\n",
       "\n",
       "[3445944 rows x 3 columns]"
      ]
     },
     "execution_count": 4,
     "metadata": {},
     "output_type": "execute_result"
    }
   ],
   "source": [
    "반납이력=대여반납이력.drop(['대여일시','대여 대여소명','대여 대여소번호','대여거치대','반납대여소명','이용시간','이용거리','반납거치대'],1)\n",
    "반납이력"
   ]
  },
  {
   "cell_type": "markdown",
   "id": "fc433478",
   "metadata": {},
   "source": [
    "## 반납대여소번호에 숫자 아닌 행 제거 (행 수 : 344,5944 ->344,5908) "
   ]
  },
  {
   "cell_type": "code",
   "execution_count": 5,
   "id": "d08e122a",
   "metadata": {},
   "outputs": [
    {
     "data": {
      "text/plain": [
       "자전거번호      object\n",
       "반납일시       object\n",
       "반납대여소번호    object\n",
       "dtype: object"
      ]
     },
     "execution_count": 5,
     "metadata": {},
     "output_type": "execute_result"
    }
   ],
   "source": [
    "반납이력['반납대여소번호'] = 반납이력['반납대여소번호'].astype(str) ; 반납이력.dtypes"
   ]
  },
  {
   "cell_type": "code",
   "execution_count": 6,
   "id": "c0e5232b",
   "metadata": {
    "scrolled": false
   },
   "outputs": [
    {
     "data": {
      "text/html": [
       "<div>\n",
       "<style scoped>\n",
       "    .dataframe tbody tr th:only-of-type {\n",
       "        vertical-align: middle;\n",
       "    }\n",
       "\n",
       "    .dataframe tbody tr th {\n",
       "        vertical-align: top;\n",
       "    }\n",
       "\n",
       "    .dataframe thead th {\n",
       "        text-align: right;\n",
       "    }\n",
       "</style>\n",
       "<table border=\"1\" class=\"dataframe\">\n",
       "  <thead>\n",
       "    <tr style=\"text-align: right;\">\n",
       "      <th></th>\n",
       "      <th>자전거번호</th>\n",
       "      <th>반납일시</th>\n",
       "      <th>반납대여소번호</th>\n",
       "    </tr>\n",
       "  </thead>\n",
       "  <tbody>\n",
       "    <tr>\n",
       "      <th>0</th>\n",
       "      <td>SPB-30385</td>\n",
       "      <td>2021-06-01 00:00:00</td>\n",
       "      <td>3538</td>\n",
       "    </tr>\n",
       "    <tr>\n",
       "      <th>1</th>\n",
       "      <td>SPB-46321</td>\n",
       "      <td>2021-06-01 00:00:02</td>\n",
       "      <td>1843</td>\n",
       "    </tr>\n",
       "    <tr>\n",
       "      <th>2</th>\n",
       "      <td>SPB-48119</td>\n",
       "      <td>2021-06-01 00:00:03</td>\n",
       "      <td>3586</td>\n",
       "    </tr>\n",
       "    <tr>\n",
       "      <th>3</th>\n",
       "      <td>SPB-55360</td>\n",
       "      <td>2021-06-01 00:00:05</td>\n",
       "      <td>2228</td>\n",
       "    </tr>\n",
       "    <tr>\n",
       "      <th>4</th>\n",
       "      <td>SPB-54699</td>\n",
       "      <td>2021-06-01 00:00:08</td>\n",
       "      <td>1856</td>\n",
       "    </tr>\n",
       "    <tr>\n",
       "      <th>...</th>\n",
       "      <td>...</td>\n",
       "      <td>...</td>\n",
       "      <td>...</td>\n",
       "    </tr>\n",
       "    <tr>\n",
       "      <th>3445939</th>\n",
       "      <td>SPB-36886</td>\n",
       "      <td>2021-07-01 04:48:33</td>\n",
       "      <td>126</td>\n",
       "    </tr>\n",
       "    <tr>\n",
       "      <th>3445940</th>\n",
       "      <td>SPB-30409</td>\n",
       "      <td>2021-07-01 04:52:25</td>\n",
       "      <td>437</td>\n",
       "    </tr>\n",
       "    <tr>\n",
       "      <th>3445941</th>\n",
       "      <td>SPB-46230</td>\n",
       "      <td>2021-07-01 04:52:27</td>\n",
       "      <td>437</td>\n",
       "    </tr>\n",
       "    <tr>\n",
       "      <th>3445942</th>\n",
       "      <td>SPB-41691</td>\n",
       "      <td>2021-07-01 04:55:29</td>\n",
       "      <td>2526</td>\n",
       "    </tr>\n",
       "    <tr>\n",
       "      <th>3445943</th>\n",
       "      <td>SPB-52274</td>\n",
       "      <td>2021-07-01 04:55:30</td>\n",
       "      <td>2526</td>\n",
       "    </tr>\n",
       "  </tbody>\n",
       "</table>\n",
       "<p>3445908 rows × 3 columns</p>\n",
       "</div>"
      ],
      "text/plain": [
       "             자전거번호                 반납일시 반납대여소번호\n",
       "0        SPB-30385  2021-06-01 00:00:00    3538\n",
       "1        SPB-46321  2021-06-01 00:00:02    1843\n",
       "2        SPB-48119  2021-06-01 00:00:03    3586\n",
       "3        SPB-55360  2021-06-01 00:00:05    2228\n",
       "4        SPB-54699  2021-06-01 00:00:08    1856\n",
       "...            ...                  ...     ...\n",
       "3445939  SPB-36886  2021-07-01 04:48:33     126\n",
       "3445940  SPB-30409  2021-07-01 04:52:25     437\n",
       "3445941  SPB-46230  2021-07-01 04:52:27     437\n",
       "3445942  SPB-41691  2021-07-01 04:55:29    2526\n",
       "3445943  SPB-52274  2021-07-01 04:55:30    2526\n",
       "\n",
       "[3445908 rows x 3 columns]"
      ]
     },
     "execution_count": 6,
     "metadata": {},
     "output_type": "execute_result"
    }
   ],
   "source": [
    "반납이력 = 반납이력[반납이력.반납대여소번호.apply(lambda x: x.isnumeric())] ; 반납이력"
   ]
  },
  {
   "cell_type": "code",
   "execution_count": 7,
   "id": "769919e2",
   "metadata": {},
   "outputs": [
    {
     "name": "stderr",
     "output_type": "stream",
     "text": [
      "<ipython-input-7-3cd207bd6c5e>:1: SettingWithCopyWarning: \n",
      "A value is trying to be set on a copy of a slice from a DataFrame.\n",
      "Try using .loc[row_indexer,col_indexer] = value instead\n",
      "\n",
      "See the caveats in the documentation: https://pandas.pydata.org/pandas-docs/stable/user_guide/indexing.html#returning-a-view-versus-a-copy\n",
      "  반납이력['반납대여소번호'] = 반납이력['반납대여소번호'].astype('int')\n"
     ]
    }
   ],
   "source": [
    "반납이력['반납대여소번호'] = 반납이력['반납대여소번호'].astype('int')"
   ]
  },
  {
   "cell_type": "markdown",
   "id": "732ff8a8",
   "metadata": {},
   "source": [
    "## 반납대여소 자치구 붙이기  (행 수 : 344,5944-> 344,5908->344,3879)"
   ]
  },
  {
   "cell_type": "code",
   "execution_count": 9,
   "id": "a9ba308f",
   "metadata": {},
   "outputs": [],
   "source": [
    "구별대여소번호=pd.read_csv(\"./station_구별.csv\", encoding='cp949')"
   ]
  },
  {
   "cell_type": "code",
   "execution_count": 10,
   "id": "cf843a48",
   "metadata": {},
   "outputs": [
    {
     "data": {
      "text/html": [
       "<div>\n",
       "<style scoped>\n",
       "    .dataframe tbody tr th:only-of-type {\n",
       "        vertical-align: middle;\n",
       "    }\n",
       "\n",
       "    .dataframe tbody tr th {\n",
       "        vertical-align: top;\n",
       "    }\n",
       "\n",
       "    .dataframe thead th {\n",
       "        text-align: right;\n",
       "    }\n",
       "</style>\n",
       "<table border=\"1\" class=\"dataframe\">\n",
       "  <thead>\n",
       "    <tr style=\"text-align: right;\">\n",
       "      <th></th>\n",
       "      <th>자전거번호</th>\n",
       "      <th>반납일시</th>\n",
       "      <th>대여소번호</th>\n",
       "      <th>Unnamed: 0</th>\n",
       "      <th>소재지.위치.</th>\n",
       "    </tr>\n",
       "  </thead>\n",
       "  <tbody>\n",
       "    <tr>\n",
       "      <th>0</th>\n",
       "      <td>SPB-30385</td>\n",
       "      <td>2021-06-01 00:00:00</td>\n",
       "      <td>3538</td>\n",
       "      <td>2022</td>\n",
       "      <td>성동구</td>\n",
       "    </tr>\n",
       "    <tr>\n",
       "      <th>1</th>\n",
       "      <td>SPB-33325</td>\n",
       "      <td>2021-06-01 08:38:58</td>\n",
       "      <td>3538</td>\n",
       "      <td>2022</td>\n",
       "      <td>성동구</td>\n",
       "    </tr>\n",
       "    <tr>\n",
       "      <th>2</th>\n",
       "      <td>SPB-42097</td>\n",
       "      <td>2021-06-01 08:40:35</td>\n",
       "      <td>3538</td>\n",
       "      <td>2022</td>\n",
       "      <td>성동구</td>\n",
       "    </tr>\n",
       "    <tr>\n",
       "      <th>3</th>\n",
       "      <td>SPB-30270</td>\n",
       "      <td>2021-06-01 08:41:30</td>\n",
       "      <td>3538</td>\n",
       "      <td>2022</td>\n",
       "      <td>성동구</td>\n",
       "    </tr>\n",
       "    <tr>\n",
       "      <th>4</th>\n",
       "      <td>SPB-52539</td>\n",
       "      <td>2021-06-01 08:49:21</td>\n",
       "      <td>3538</td>\n",
       "      <td>2022</td>\n",
       "      <td>성동구</td>\n",
       "    </tr>\n",
       "    <tr>\n",
       "      <th>...</th>\n",
       "      <td>...</td>\n",
       "      <td>...</td>\n",
       "      <td>...</td>\n",
       "      <td>...</td>\n",
       "      <td>...</td>\n",
       "    </tr>\n",
       "    <tr>\n",
       "      <th>3443874</th>\n",
       "      <td>SPB-47184</td>\n",
       "      <td>2021-06-30 22:40:48</td>\n",
       "      <td>3811</td>\n",
       "      <td>2164</td>\n",
       "      <td>관악구</td>\n",
       "    </tr>\n",
       "    <tr>\n",
       "      <th>3443875</th>\n",
       "      <td>SPB-30962</td>\n",
       "      <td>2021-06-30 22:44:29</td>\n",
       "      <td>3811</td>\n",
       "      <td>2164</td>\n",
       "      <td>관악구</td>\n",
       "    </tr>\n",
       "    <tr>\n",
       "      <th>3443876</th>\n",
       "      <td>SPB-34154</td>\n",
       "      <td>2021-06-30 22:47:20</td>\n",
       "      <td>3811</td>\n",
       "      <td>2164</td>\n",
       "      <td>관악구</td>\n",
       "    </tr>\n",
       "    <tr>\n",
       "      <th>3443877</th>\n",
       "      <td>SPB-46380</td>\n",
       "      <td>2021-06-30 22:47:24</td>\n",
       "      <td>3811</td>\n",
       "      <td>2164</td>\n",
       "      <td>관악구</td>\n",
       "    </tr>\n",
       "    <tr>\n",
       "      <th>3443878</th>\n",
       "      <td>SPB-45507</td>\n",
       "      <td>2021-07-01 00:02:32</td>\n",
       "      <td>3811</td>\n",
       "      <td>2164</td>\n",
       "      <td>관악구</td>\n",
       "    </tr>\n",
       "  </tbody>\n",
       "</table>\n",
       "<p>3443879 rows × 5 columns</p>\n",
       "</div>"
      ],
      "text/plain": [
       "             자전거번호                반납일시  대여소번호  Unnamed: 0 소재지.위치.\n",
       "0        SPB-30385 2021-06-01 00:00:00   3538        2022     성동구\n",
       "1        SPB-33325 2021-06-01 08:38:58   3538        2022     성동구\n",
       "2        SPB-42097 2021-06-01 08:40:35   3538        2022     성동구\n",
       "3        SPB-30270 2021-06-01 08:41:30   3538        2022     성동구\n",
       "4        SPB-52539 2021-06-01 08:49:21   3538        2022     성동구\n",
       "...            ...                 ...    ...         ...     ...\n",
       "3443874  SPB-47184 2021-06-30 22:40:48   3811        2164     관악구\n",
       "3443875  SPB-30962 2021-06-30 22:44:29   3811        2164     관악구\n",
       "3443876  SPB-34154 2021-06-30 22:47:20   3811        2164     관악구\n",
       "3443877  SPB-46380 2021-06-30 22:47:24   3811        2164     관악구\n",
       "3443878  SPB-45507 2021-07-01 00:02:32   3811        2164     관악구\n",
       "\n",
       "[3443879 rows x 5 columns]"
      ]
     },
     "execution_count": 10,
     "metadata": {},
     "output_type": "execute_result"
    }
   ],
   "source": [
    "반납이력=반납이력.rename(columns={'반납대여소번호':'대여소번호'})\n",
    "반납이력_자치구=반납이력.merge(구별대여소번호,on=['대여소번호'],how='inner')\n",
    "반납이력_자치구"
   ]
  },
  {
   "cell_type": "code",
   "execution_count": 14,
   "id": "1b2b81f3",
   "metadata": {
    "scrolled": true
   },
   "outputs": [],
   "source": [
    "반납이력_자치구 = 반납이력_자치구.sort_values('반납일시')\n",
    "반납이력_자치구"
   ]
  },
  {
   "cell_type": "markdown",
   "id": "2545323b",
   "metadata": {},
   "source": [
    "### 여기에 왜 unnamed가 붙는지 모르겠음 ㅠ"
   ]
  },
  {
   "cell_type": "markdown",
   "id": "a76a8a7e",
   "metadata": {},
   "source": [
    "# ######여기까지가 정리####### #"
   ]
  },
  {
   "cell_type": "markdown",
   "id": "3277bbe2",
   "metadata": {},
   "source": [
    "## 반납일시 datetime으로 바꾼 거!"
   ]
  },
  {
   "cell_type": "code",
   "execution_count": 17,
   "id": "4449df30",
   "metadata": {},
   "outputs": [],
   "source": [
    "반납이력['반납일시']= pd.to_datetime(반납이력['반납일시'])\n",
    "#반납이력['반납시간대'] = 반납이력['반납일시'].dt.hour"
   ]
  },
  {
   "cell_type": "code",
   "execution_count": null,
   "id": "f3cad8e8",
   "metadata": {},
   "outputs": [],
   "source": [
    "#반납이력_자치구['반납일시'].iloc[1174000].weekday() ; 반납이력_자치구['반납일시'].iloc[0].hour"
   ]
  },
  {
   "cell_type": "code",
   "execution_count": 42,
   "id": "de44b615",
   "metadata": {},
   "outputs": [
    {
     "data": {
      "text/html": [
       "<div>\n",
       "<style scoped>\n",
       "    .dataframe tbody tr th:only-of-type {\n",
       "        vertical-align: middle;\n",
       "    }\n",
       "\n",
       "    .dataframe tbody tr th {\n",
       "        vertical-align: top;\n",
       "    }\n",
       "\n",
       "    .dataframe thead th {\n",
       "        text-align: right;\n",
       "    }\n",
       "</style>\n",
       "<table border=\"1\" class=\"dataframe\">\n",
       "  <thead>\n",
       "    <tr style=\"text-align: right;\">\n",
       "      <th></th>\n",
       "      <th>자전거번호</th>\n",
       "      <th>반납일시</th>\n",
       "      <th>대여소번호</th>\n",
       "      <th>Unnamed: 0</th>\n",
       "      <th>소재지.위치.</th>\n",
       "      <th>반납일시 시간대</th>\n",
       "    </tr>\n",
       "  </thead>\n",
       "  <tbody>\n",
       "    <tr>\n",
       "      <th>0</th>\n",
       "      <td>SPB-30385</td>\n",
       "      <td>2021-06-01 00:00:00</td>\n",
       "      <td>3538</td>\n",
       "      <td>2022</td>\n",
       "      <td>성동구</td>\n",
       "      <td></td>\n",
       "    </tr>\n",
       "    <tr>\n",
       "      <th>494</th>\n",
       "      <td>SPB-46321</td>\n",
       "      <td>2021-06-01 00:00:02</td>\n",
       "      <td>1843</td>\n",
       "      <td>1316</td>\n",
       "      <td>금천구</td>\n",
       "      <td></td>\n",
       "    </tr>\n",
       "    <tr>\n",
       "      <th>902</th>\n",
       "      <td>SPB-48119</td>\n",
       "      <td>2021-06-01 00:00:03</td>\n",
       "      <td>3586</td>\n",
       "      <td>2055</td>\n",
       "      <td>광진구</td>\n",
       "      <td></td>\n",
       "    </tr>\n",
       "    <tr>\n",
       "      <th>2872</th>\n",
       "      <td>SPB-55360</td>\n",
       "      <td>2021-06-01 00:00:05</td>\n",
       "      <td>2228</td>\n",
       "      <td>1545</td>\n",
       "      <td>서초구</td>\n",
       "      <td></td>\n",
       "    </tr>\n",
       "    <tr>\n",
       "      <th>4999</th>\n",
       "      <td>SPB-54699</td>\n",
       "      <td>2021-06-01 00:00:08</td>\n",
       "      <td>1856</td>\n",
       "      <td>1328</td>\n",
       "      <td>금천구</td>\n",
       "      <td></td>\n",
       "    </tr>\n",
       "    <tr>\n",
       "      <th>...</th>\n",
       "      <td>...</td>\n",
       "      <td>...</td>\n",
       "      <td>...</td>\n",
       "      <td>...</td>\n",
       "      <td>...</td>\n",
       "      <td>...</td>\n",
       "    </tr>\n",
       "    <tr>\n",
       "      <th>2125612</th>\n",
       "      <td>SPB-36886</td>\n",
       "      <td>2021-07-01 04:48:33</td>\n",
       "      <td>126</td>\n",
       "      <td>28</td>\n",
       "      <td>마포구</td>\n",
       "      <td></td>\n",
       "    </tr>\n",
       "    <tr>\n",
       "      <th>2334873</th>\n",
       "      <td>SPB-30409</td>\n",
       "      <td>2021-07-01 04:52:25</td>\n",
       "      <td>437</td>\n",
       "      <td>298</td>\n",
       "      <td>마포구</td>\n",
       "      <td></td>\n",
       "    </tr>\n",
       "    <tr>\n",
       "      <th>2334874</th>\n",
       "      <td>SPB-46230</td>\n",
       "      <td>2021-07-01 04:52:27</td>\n",
       "      <td>437</td>\n",
       "      <td>298</td>\n",
       "      <td>마포구</td>\n",
       "      <td></td>\n",
       "    </tr>\n",
       "    <tr>\n",
       "      <th>2186140</th>\n",
       "      <td>SPB-41691</td>\n",
       "      <td>2021-07-01 04:55:29</td>\n",
       "      <td>2526</td>\n",
       "      <td>1740</td>\n",
       "      <td>서초구</td>\n",
       "      <td></td>\n",
       "    </tr>\n",
       "    <tr>\n",
       "      <th>2186141</th>\n",
       "      <td>SPB-52274</td>\n",
       "      <td>2021-07-01 04:55:30</td>\n",
       "      <td>2526</td>\n",
       "      <td>1740</td>\n",
       "      <td>서초구</td>\n",
       "      <td></td>\n",
       "    </tr>\n",
       "  </tbody>\n",
       "</table>\n",
       "<p>3443879 rows × 6 columns</p>\n",
       "</div>"
      ],
      "text/plain": [
       "             자전거번호                반납일시  대여소번호  Unnamed: 0 소재지.위치. 반납일시 시간대\n",
       "0        SPB-30385 2021-06-01 00:00:00   3538        2022     성동구         \n",
       "494      SPB-46321 2021-06-01 00:00:02   1843        1316     금천구         \n",
       "902      SPB-48119 2021-06-01 00:00:03   3586        2055     광진구         \n",
       "2872     SPB-55360 2021-06-01 00:00:05   2228        1545     서초구         \n",
       "4999     SPB-54699 2021-06-01 00:00:08   1856        1328     금천구         \n",
       "...            ...                 ...    ...         ...     ...      ...\n",
       "2125612  SPB-36886 2021-07-01 04:48:33    126          28     마포구         \n",
       "2334873  SPB-30409 2021-07-01 04:52:25    437         298     마포구         \n",
       "2334874  SPB-46230 2021-07-01 04:52:27    437         298     마포구         \n",
       "2186140  SPB-41691 2021-07-01 04:55:29   2526        1740     서초구         \n",
       "2186141  SPB-52274 2021-07-01 04:55:30   2526        1740     서초구         \n",
       "\n",
       "[3443879 rows x 6 columns]"
      ]
     },
     "execution_count": 42,
     "metadata": {},
     "output_type": "execute_result"
    }
   ],
   "source": [
    "반납이력_자치구['반납일시 시간대'] = '' ; 반납이력_자치구"
   ]
  },
  {
   "cell_type": "code",
   "execution_count": null,
   "id": "7002d7c0",
   "metadata": {},
   "outputs": [],
   "source": [
    "for i in range(len(반납이력_자치구)) :\n",
    "    if 반납이력_자치구['반납일시'].iloc[i].hour >= 4 & 반납이력_자치구['반납일시'].iloc[i].hour < 10:\n",
    "        반납이력_자치구['반납일시 시간대'] = 2\n",
    "    elif 반납이력_자치구['반납일시'].iloc[i].hour >= 10 & 반납이력_자치구['반납일시'].iloc[i].hour < 16 :\n",
    "        반납이력_자치구['반납일시 시간대'] = 3\n",
    "    elif 반납이력_자치구['반납일시'].iloc[i].hour >= 16 & 반납이력_자치구['반납일시'].iloc[i].hour < 22 :\n",
    "        반납이력_자치구['반납일시 시간대'] = 4\n",
    "    else : \n",
    "        반납이력_자치구['반납일시 시간대'] = 1    "
   ]
  },
  {
   "cell_type": "markdown",
   "id": "d85bf99f",
   "metadata": {},
   "source": [
    "# 위에 거 아직도 돌아가는 중..."
   ]
  },
  {
   "cell_type": "code",
   "execution_count": 41,
   "id": "bab4d742",
   "metadata": {},
   "outputs": [
    {
     "ename": "SyntaxError",
     "evalue": "invalid syntax (<ipython-input-41-f8ba9188ef69>, line 5)",
     "output_type": "error",
     "traceback": [
      "\u001b[1;36m  File \u001b[1;32m\"<ipython-input-41-f8ba9188ef69>\"\u001b[1;36m, line \u001b[1;32m5\u001b[0m\n\u001b[1;33m    elif 반납이력_자치구['반납일시'].iloc[0].hour >= 10 & 반납이력_자치구['반납일시'].iloc[0].hour < 16 :\u001b[0m\n\u001b[1;37m    ^\u001b[0m\n\u001b[1;31mSyntaxError\u001b[0m\u001b[1;31m:\u001b[0m invalid syntax\n"
     ]
    }
   ],
   "source": [
    "if 반납이력_자치구['반납일시'].iloc[0].hour >= 4 & 반납이력_자치구['반납일시'].iloc[0].hour < 10:\n",
    "    반납이력_자치구['반납일시 시간대'] = 2\n",
    "    elif 반납이력_자치구['반납일시'].iloc[0].hour >= 10 & 반납이력_자치구['반납일시'].iloc[0].hour < 16 :\n",
    "        반납이력_자치구['반납일시 시간대'] = 3\n",
    "    elif반납이력_자치구['반납일시'].iloc[0].hour >= 16 & 반납이력_자치구['반납일시'].iloc[0].hour < 22 :\n",
    "        반납이력_자치구['반납일시 시간대'] = 4\n",
    "    else : \n",
    "        반납이력_자치구['반납일시 시간대'] = 1"
   ]
  },
  {
   "cell_type": "code",
   "execution_count": null,
   "id": "9fa43104",
   "metadata": {},
   "outputs": [],
   "source": []
  },
  {
   "cell_type": "code",
   "execution_count": null,
   "id": "2ddd3597",
   "metadata": {},
   "outputs": [],
   "source": []
  },
  {
   "cell_type": "code",
   "execution_count": 23,
   "id": "186bd3f9",
   "metadata": {},
   "outputs": [
    {
     "ename": "TypeError",
     "evalue": "'int' object is not callable",
     "output_type": "error",
     "traceback": [
      "\u001b[1;31m---------------------------------------------------------------------------\u001b[0m",
      "\u001b[1;31mTypeError\u001b[0m                                 Traceback (most recent call last)",
      "\u001b[1;32m<ipython-input-23-21e49b034be4>\u001b[0m in \u001b[0;36m<module>\u001b[1;34m\u001b[0m\n\u001b[0;32m      1\u001b[0m \u001b[1;32mif\u001b[0m \u001b[0m반납이력_자치구\u001b[0m\u001b[1;33m[\u001b[0m\u001b[1;34m'반납일시'\u001b[0m\u001b[1;33m]\u001b[0m\u001b[1;33m.\u001b[0m\u001b[0miloc\u001b[0m\u001b[1;33m[\u001b[0m\u001b[1;36m0\u001b[0m\u001b[1;33m]\u001b[0m\u001b[1;33m.\u001b[0m\u001b[0mweekday\u001b[0m\u001b[1;33m(\u001b[0m\u001b[1;33m)\u001b[0m \u001b[1;33m>=\u001b[0m \u001b[1;36m0\u001b[0m \u001b[1;33m&\u001b[0m \u001b[0m반납이력_자치구\u001b[0m\u001b[1;33m[\u001b[0m\u001b[1;34m'반납일시'\u001b[0m\u001b[1;33m]\u001b[0m\u001b[1;33m.\u001b[0m\u001b[0miloc\u001b[0m\u001b[1;33m[\u001b[0m\u001b[1;36m0\u001b[0m\u001b[1;33m]\u001b[0m\u001b[1;33m.\u001b[0m\u001b[0mweekday\u001b[0m\u001b[1;33m(\u001b[0m\u001b[1;33m)\u001b[0m \u001b[1;33m<=\u001b[0m \u001b[1;36m4\u001b[0m \u001b[1;33m:\u001b[0m\u001b[1;33m\u001b[0m\u001b[1;33m\u001b[0m\u001b[0m\n\u001b[1;32m----> 2\u001b[1;33m     \u001b[1;32mif\u001b[0m \u001b[0m반납이력_자치구\u001b[0m\u001b[1;33m[\u001b[0m\u001b[1;34m'반납일시'\u001b[0m\u001b[1;33m]\u001b[0m\u001b[1;33m.\u001b[0m\u001b[0miloc\u001b[0m\u001b[1;33m[\u001b[0m\u001b[1;36m0\u001b[0m\u001b[1;33m]\u001b[0m\u001b[1;33m.\u001b[0m\u001b[0mhour\u001b[0m\u001b[1;33m(\u001b[0m\u001b[1;33m)\u001b[0m \u001b[1;33m>=\u001b[0m \u001b[1;36m4\u001b[0m \u001b[1;33m&\u001b[0m \u001b[0m반납이력_자치구\u001b[0m\u001b[1;33m[\u001b[0m\u001b[1;34m'반납일시'\u001b[0m\u001b[1;33m]\u001b[0m\u001b[1;33m.\u001b[0m\u001b[0miloc\u001b[0m\u001b[1;33m[\u001b[0m\u001b[1;36m0\u001b[0m\u001b[1;33m]\u001b[0m\u001b[1;33m.\u001b[0m\u001b[0mhour\u001b[0m\u001b[1;33m(\u001b[0m\u001b[1;33m)\u001b[0m \u001b[1;33m<\u001b[0m \u001b[1;36m10\u001b[0m\u001b[1;33m:\u001b[0m\u001b[1;33m\u001b[0m\u001b[1;33m\u001b[0m\u001b[0m\n\u001b[0m\u001b[0;32m      3\u001b[0m         \u001b[0m반납이력_자치구\u001b[0m\u001b[1;33m[\u001b[0m\u001b[1;34m'반납일시 시간대'\u001b[0m\u001b[1;33m]\u001b[0m \u001b[1;33m=\u001b[0m \u001b[1;34m'평일 오전'\u001b[0m\u001b[1;33m\u001b[0m\u001b[1;33m\u001b[0m\u001b[0m\n",
      "\u001b[1;31mTypeError\u001b[0m: 'int' object is not callable"
     ]
    }
   ],
   "source": [
    "if 반납이력_자치구['반납일시'].iloc[0].weekday() >= 0 & 반납이력_자치구['반납일시'].iloc[0].weekday() <= 4 :\n",
    "    if 반납이력_자치구['반납일시'].iloc[0].hour() >= 4 & 반납이력_자치구['반납일시'].iloc[0].hour() < 10:\n",
    "        반납이력_자치구['반납일시 시간대'] = '평일 오전'"
   ]
  },
  {
   "cell_type": "code",
   "execution_count": null,
   "id": "9696510e",
   "metadata": {},
   "outputs": [],
   "source": [
    "# 시간 나누기\n"
   ]
  },
  {
   "cell_type": "code",
   "execution_count": 22,
   "id": "de3c9338",
   "metadata": {},
   "outputs": [
    {
     "ename": "SyntaxError",
     "evalue": "invalid syntax (<ipython-input-22-e817e6dccd9e>, line 9)",
     "output_type": "error",
     "traceback": [
      "\u001b[1;36m  File \u001b[1;32m\"<ipython-input-22-e817e6dccd9e>\"\u001b[1;36m, line \u001b[1;32m9\u001b[0m\n\u001b[1;33m    elif반납이력_자치구['반납일시'].iloc[0].hour() >= 16 & 반납이력_자치구['반납일시'].iloc[0].hour() < 22 :\u001b[0m\n\u001b[1;37m                                                                                      ^\u001b[0m\n\u001b[1;31mSyntaxError\u001b[0m\u001b[1;31m:\u001b[0m invalid syntax\n"
     ]
    }
   ],
   "source": [
    "# 평일 0~4\n",
    "반납이력_자치구['반납일시 시간대'] = ''\n",
    "\n",
    "if 반납이력_자치구['반납일시'].iloc[0].weekday() >= 0 & 반납이력_자치구['반납일시'].iloc[0].weekday() <= 4 :\n",
    "    if 반납이력_자치구['반납일시'].iloc[0].hour >= 4 & 반납이력_자치구['반납일시'].iloc[0].hour < 10:\n",
    "        반납이력_자치구['반납일시 시간대'] = '평일 오전'\n",
    "    elif 반납이력_자치구['반납일시'].iloc[0].hour >= 10 & 반납이력_자치구['반납일시'].iloc[0].hour < 16 :\n",
    "        반납이력_자치구['반납일시 시간대'] = '평일 오후'\n",
    "    elif반납이력_자치구['반납일시'].iloc[0].hour >= 16 & 반납이력_자치구['반납일시'].iloc[0].hour < 22 :\n",
    "        반납이력_자치구['반납일시 시간대'] = '평일 저녁'\n",
    "    else : \n",
    "        반납이력_자치구['반납일시 시간대'] = '평일 새벽'\n",
    "        \n",
    "# 주말 5,6\n",
    "if 반납이력_자치구['반납일시'].iloc[0].weekday() = 5 & 반납이력_자치구['반납일시'].iloc[0].weekday() = 6 :\n",
    "    if 반납이력_자치구['반납일시'].iloc[0].hour() >= 4 & 반납이력_자치구['반납일시'].iloc[0].hour() < 10:\n",
    "        반납이력_자치구['반납일시 시간대'] = '주말 오전'\n",
    "    elif 반납이력_자치구['반납일시'].iloc[0].hour() >= 10 & 반납이력_자치구['반납일시'].iloc[0].hour() < 16 :\n",
    "        반납이력_자치구['반납일시 시간대'] = '주말 오후'\n",
    "    elif반납이력_자치구['반납일시'].iloc[0].hour() >= 16 & 반납이력_자치구['반납일시'].iloc[0].hour() < 22 :\n",
    "        반납이력_자치구['반납일시 시간대'] = '주말 저녁'\n",
    "    else : \n",
    "        반납이력_자치구['반납일시 시간대'] = '주말 새벽'"
   ]
  },
  {
   "cell_type": "code",
   "execution_count": 13,
   "id": "de13dabc",
   "metadata": {},
   "outputs": [
    {
     "ename": "SyntaxError",
     "evalue": "invalid syntax (<ipython-input-13-cf88a59f864a>, line 3)",
     "output_type": "error",
     "traceback": [
      "\u001b[1;36m  File \u001b[1;32m\"<ipython-input-13-cf88a59f864a>\"\u001b[1;36m, line \u001b[1;32m3\u001b[0m\n\u001b[1;33m    if 반납이력_자치구['반납일시'].iloc(i) >\u001b[0m\n\u001b[1;37m                                 ^\u001b[0m\n\u001b[1;31mSyntaxError\u001b[0m\u001b[1;31m:\u001b[0m invalid syntax\n"
     ]
    }
   ],
   "source": [
    "for i in range(len(반납이력)) :\n",
    "    if 반납이력_자치구['반납일시'].iloc(i) == 0 :\n",
    "        if 반납이력_자치구['반납일시'].iloc(i) >"
   ]
  },
  {
   "cell_type": "code",
   "execution_count": null,
   "id": "691009d0",
   "metadata": {
    "scrolled": true
   },
   "outputs": [],
   "source": [
    "## 대여시간대 아침/오후/저녁 으로 넣기 ##\n",
    "for i in range(len(반납이력)):\n",
    "    if (반납이력['반납시간대'].iloc[i]>ㅇ & 반납이력['반납시간대'].iloc[i]<ㅇ)|(반납이력['반납시간대'].iloc[i]>ㅇ & 반납이력['반납시간대'].iloc[i]<ㅇ):\n",
    "        반납이력['반납시간대'].iloc[i]='아침'\n",
    "    elif (반납이력['반납시간대'].iloc[i]>ㅇ) & (반납이력['반납시간대'].iloc[i]<ㅇ):\n",
    "        반납이력['반납시간대'].iloc[i]='오후'\n",
    "    else:\n",
    "        반납이력['반납시간대'].iloc[i]='저녁'"
   ]
  },
  {
   "cell_type": "code",
   "execution_count": null,
   "id": "fabd6e72",
   "metadata": {},
   "outputs": [],
   "source": [
    "## 대여소번호 이상값 처리 ##\n",
    "not_over=반납이력['반납대여소번호']<= 4870\n",
    "반납이력_narm=반납이력[not_over]"
   ]
  },
  {
   "cell_type": "code",
   "execution_count": null,
   "id": "191d2901",
   "metadata": {},
   "outputs": [],
   "source": [
    "반납이력_narm"
   ]
  },
  {
   "cell_type": "code",
   "execution_count": null,
   "id": "a8703e71",
   "metadata": {
    "scrolled": false
   },
   "outputs": [],
   "source": [
    "구별대여소번호=pd.read_csv(\"./station_구별.csv\", encoding='cp949')"
   ]
  },
  {
   "cell_type": "code",
   "execution_count": null,
   "id": "3f778f50",
   "metadata": {
    "scrolled": true
   },
   "outputs": [],
   "source": [
    "## 오래걸리는거 ##\n",
    "\n",
    "반납이력_narm=반납이력_narm.rename(columns={'반납대여소번호':'대여소번호'})\n",
    "반납이력_자치구=반납이력_narm.merge(구별대여소번호,on=['대여소번호'],how='inner')\n",
    "반납이력_자치구"
   ]
  },
  {
   "cell_type": "code",
   "execution_count": null,
   "id": "08b1b423",
   "metadata": {},
   "outputs": [],
   "source": [
    "반납이력_자치구"
   ]
  },
  {
   "cell_type": "code",
   "execution_count": null,
   "id": "30213acd",
   "metadata": {},
   "outputs": [],
   "source": [
    "반납이력['반납대여소번호']==구별대여소번호['대여소번호']"
   ]
  },
  {
   "cell_type": "code",
   "execution_count": null,
   "id": "366958c2",
   "metadata": {},
   "outputs": [],
   "source": [
    "list_반납자치구_df = pd.DataFrame(list_a, columns=['반납 자치구'])\n",
    "list_반납자치구_df['id']=list_반납자치구_df.index"
   ]
  },
  {
   "cell_type": "code",
   "execution_count": null,
   "id": "474fcabf",
   "metadata": {
    "scrolled": true
   },
   "outputs": [],
   "source": [
    "반납이력_narm_copy=반납이력_narm\n",
    "반납이력_narm_copy['id']=반납이력_narm_copy.index"
   ]
  },
  {
   "cell_type": "code",
   "execution_count": null,
   "id": "a9f2c09e",
   "metadata": {},
   "outputs": [],
   "source": [
    "merge=pd.merge(반납이력_narm_copy,list_반납자치구_df,how='left')\n",
    "merge"
   ]
  },
  {
   "cell_type": "code",
   "execution_count": null,
   "id": "7d09acb0",
   "metadata": {},
   "outputs": [],
   "source": [
    "merge=merge.dropna()\n",
    "merge_nm = merge[merge['반납 자치구'] == 0].index\n",
    "merge_n = merge.drop(merge_nm)\n",
    "merge_n"
   ]
  },
  {
   "cell_type": "code",
   "execution_count": null,
   "id": "e49960f3",
   "metadata": {},
   "outputs": [],
   "source": []
  },
  {
   "cell_type": "code",
   "execution_count": null,
   "id": "0f34fbc2",
   "metadata": {},
   "outputs": [],
   "source": []
  },
  {
   "cell_type": "code",
   "execution_count": null,
   "id": "684e628b",
   "metadata": {},
   "outputs": [],
   "source": []
  },
  {
   "cell_type": "code",
   "execution_count": null,
   "id": "ea420557",
   "metadata": {},
   "outputs": [],
   "source": []
  },
  {
   "cell_type": "code",
   "execution_count": null,
   "id": "44520ada",
   "metadata": {},
   "outputs": [],
   "source": []
  }
 ],
 "metadata": {
  "kernelspec": {
   "display_name": "Python 3",
   "language": "python",
   "name": "python3"
  },
  "language_info": {
   "codemirror_mode": {
    "name": "ipython",
    "version": 3
   },
   "file_extension": ".py",
   "mimetype": "text/x-python",
   "name": "python",
   "nbconvert_exporter": "python",
   "pygments_lexer": "ipython3",
   "version": "3.8.8"
  }
 },
 "nbformat": 4,
 "nbformat_minor": 5
}
