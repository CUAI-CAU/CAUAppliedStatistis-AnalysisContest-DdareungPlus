{
 "cells": [
  {
   "cell_type": "code",
   "execution_count": 1,
   "id": "fdd7e571",
   "metadata": {},
   "outputs": [],
   "source": [
    "import pandas as pd\n",
    "import numpy as np"
   ]
  },
  {
   "cell_type": "code",
   "execution_count": 630,
   "id": "dadb87bf",
   "metadata": {},
   "outputs": [],
   "source": [
    "대여반납이력=pd.read_csv(\"./대여이력 데이터/공공자전거 대여이력 정보_2021.06.csv\", encoding='cp949')"
   ]
  },
  {
   "cell_type": "code",
   "execution_count": 631,
   "id": "052b354d",
   "metadata": {},
   "outputs": [],
   "source": [
    "대여반납이력.columns=[\"자전거번호\", \"대여일시\", \"대여 대여소번호\", \"대여 대여소명\", \"대여거치대\", \"반납일시\", \"반납대여소번호\", '반납대여소명', '반납거치대', '이용시간', \"이용거리\"]"
   ]
  },
  {
   "cell_type": "markdown",
   "id": "acd1da09",
   "metadata": {},
   "source": [
    "## 반납이력 df 만들기(필요한 행만 추출)"
   ]
  },
  {
   "cell_type": "code",
   "execution_count": 632,
   "id": "268cc3b1",
   "metadata": {},
   "outputs": [],
   "source": [
    "반납이력=대여반납이력.drop(['대여일시','대여 대여소명','대여 대여소번호','대여거치대','반납대여소명','이용시간','이용거리','반납거치대'],1)"
   ]
  },
  {
   "cell_type": "markdown",
   "id": "210d7de4",
   "metadata": {},
   "source": [
    "## 반납대여소번호에 숫자 아닌 행 제거 (행 수 : 344,5944 ->344,5908) "
   ]
  },
  {
   "cell_type": "code",
   "execution_count": 633,
   "id": "578e3432",
   "metadata": {},
   "outputs": [],
   "source": [
    "반납이력['반납대여소번호'] = 반납이력['반납대여소번호'].astype(str)"
   ]
  },
  {
   "cell_type": "code",
   "execution_count": 634,
   "id": "7e7e546a",
   "metadata": {
    "scrolled": false
   },
   "outputs": [],
   "source": [
    "반납이력 = 반납이력[반납이력.반납대여소번호.apply(lambda x: x.isnumeric())]"
   ]
  },
  {
   "cell_type": "code",
   "execution_count": 635,
   "id": "9ad46e0e",
   "metadata": {},
   "outputs": [],
   "source": [
    "반납이력['반납대여소번호'] = 반납이력['반납대여소번호'].astype('int')"
   ]
  },
  {
   "cell_type": "markdown",
   "id": "0f0f5454",
   "metadata": {},
   "source": [
    "## 반납대여소 자치구 붙이기  (행 수 : 344,5944-> 344,5908->344,3879)"
   ]
  },
  {
   "cell_type": "code",
   "execution_count": 636,
   "id": "86706447",
   "metadata": {},
   "outputs": [],
   "source": [
    "#구별대여소번호=pd.read_csv(\"./station_구별.csv\", encoding='cp949')"
   ]
  },
  {
   "cell_type": "code",
   "execution_count": 637,
   "id": "95f33ddb",
   "metadata": {
    "scrolled": true
   },
   "outputs": [],
   "source": [
    "반납이력=반납이력.rename(columns={'반납대여소번호':'대여소번호'})\n",
    "반납이력_자치구=반납이력.merge(구별대여소번호,on=['대여소번호'],how='inner')\n",
    "반납이력_자치구=반납이력_자치구.rename(columns={'소재지.위치.':'자치구'})\n",
    "반납이력_자치구=반납이력_자치구.drop(['Unnamed: 0'],1)\n",
    "반납이력_자치구 = 반납이력_자치구.sort_values('반납일시')"
   ]
  },
  {
   "cell_type": "markdown",
   "id": "94e63118",
   "metadata": {},
   "source": [
    "## 반납일시 datetime으로 바꾼 거!"
   ]
  },
  {
   "cell_type": "code",
   "execution_count": 638,
   "id": "0277d7c5",
   "metadata": {},
   "outputs": [],
   "source": [
    "반납이력_자치구['반납일시']= pd.to_datetime(반납이력_자치구['반납일시'])"
   ]
  },
  {
   "cell_type": "code",
   "execution_count": 639,
   "id": "f311a61e",
   "metadata": {},
   "outputs": [],
   "source": [
    "반납이력_자치구['반납일시_day']=반납이력_자치구['반납일시'].dt.date"
   ]
  },
  {
   "cell_type": "code",
   "execution_count": 640,
   "id": "aa676121",
   "metadata": {},
   "outputs": [],
   "source": [
    "grouped = 반납이력_자치구.groupby(['자치구','반납일시_day'])\n",
    "grouped_df=pd.DataFrame(grouped.count())"
   ]
  },
  {
   "cell_type": "code",
   "execution_count": 641,
   "id": "83d85ebc",
   "metadata": {
    "scrolled": true
   },
   "outputs": [],
   "source": [
    "grouped_df=grouped_df.drop(['반납일시','대여소번호'],1)\n",
    "grouped_df=grouped_df.rename(columns={'자전거번호':'반납수'})"
   ]
  },
  {
   "cell_type": "code",
   "execution_count": 642,
   "id": "0f7ebb43",
   "metadata": {
    "scrolled": true
   },
   "outputs": [],
   "source": [
    "grouped_df.to_csv('./반납대수 전처리데이터/반납대수_2019_5.csv', sep=',',encoding='cp949')"
   ]
  },
  {
   "cell_type": "code",
   "execution_count": 643,
   "id": "1144a3af",
   "metadata": {},
   "outputs": [
    {
     "data": {
      "text/html": [
       "<div>\n",
       "<style scoped>\n",
       "    .dataframe tbody tr th:only-of-type {\n",
       "        vertical-align: middle;\n",
       "    }\n",
       "\n",
       "    .dataframe tbody tr th {\n",
       "        vertical-align: top;\n",
       "    }\n",
       "\n",
       "    .dataframe thead th {\n",
       "        text-align: right;\n",
       "    }\n",
       "</style>\n",
       "<table border=\"1\" class=\"dataframe\">\n",
       "  <thead>\n",
       "    <tr style=\"text-align: right;\">\n",
       "      <th></th>\n",
       "      <th></th>\n",
       "      <th>반납수</th>\n",
       "    </tr>\n",
       "    <tr>\n",
       "      <th>자치구</th>\n",
       "      <th>반납일시_day</th>\n",
       "      <th></th>\n",
       "    </tr>\n",
       "  </thead>\n",
       "  <tbody>\n",
       "    <tr>\n",
       "      <th rowspan=\"5\" valign=\"top\">강남구</th>\n",
       "      <th>2019-05-01</th>\n",
       "      <td>3018</td>\n",
       "    </tr>\n",
       "    <tr>\n",
       "      <th>2019-05-02</th>\n",
       "      <td>3192</td>\n",
       "    </tr>\n",
       "    <tr>\n",
       "      <th>2019-05-03</th>\n",
       "      <td>3200</td>\n",
       "    </tr>\n",
       "    <tr>\n",
       "      <th>2019-05-04</th>\n",
       "      <td>2761</td>\n",
       "    </tr>\n",
       "    <tr>\n",
       "      <th>2019-05-05</th>\n",
       "      <td>2792</td>\n",
       "    </tr>\n",
       "    <tr>\n",
       "      <th>...</th>\n",
       "      <th>...</th>\n",
       "      <td>...</td>\n",
       "    </tr>\n",
       "    <tr>\n",
       "      <th rowspan=\"5\" valign=\"top\">중랑구</th>\n",
       "      <th>2019-05-28</th>\n",
       "      <td>2224</td>\n",
       "    </tr>\n",
       "    <tr>\n",
       "      <th>2019-05-29</th>\n",
       "      <td>2257</td>\n",
       "    </tr>\n",
       "    <tr>\n",
       "      <th>2019-05-30</th>\n",
       "      <td>1999</td>\n",
       "    </tr>\n",
       "    <tr>\n",
       "      <th>2019-05-31</th>\n",
       "      <td>2275</td>\n",
       "    </tr>\n",
       "    <tr>\n",
       "      <th>2019-06-01</th>\n",
       "      <td>41</td>\n",
       "    </tr>\n",
       "  </tbody>\n",
       "</table>\n",
       "<p>800 rows × 1 columns</p>\n",
       "</div>"
      ],
      "text/plain": [
       "                 반납수\n",
       "자치구 반납일시_day        \n",
       "강남구 2019-05-01  3018\n",
       "    2019-05-02  3192\n",
       "    2019-05-03  3200\n",
       "    2019-05-04  2761\n",
       "    2019-05-05  2792\n",
       "...              ...\n",
       "중랑구 2019-05-28  2224\n",
       "    2019-05-29  2257\n",
       "    2019-05-30  1999\n",
       "    2019-05-31  2275\n",
       "    2019-06-01    41\n",
       "\n",
       "[800 rows x 1 columns]"
      ]
     },
     "execution_count": 643,
     "metadata": {},
     "output_type": "execute_result"
    }
   ],
   "source": [
    "grouped_df"
   ]
  },
  {
   "cell_type": "code",
   "execution_count": null,
   "id": "899e9e5a",
   "metadata": {},
   "outputs": [],
   "source": []
  }
 ],
 "metadata": {
  "kernelspec": {
   "display_name": "Python 3",
   "language": "python",
   "name": "python3"
  },
  "language_info": {
   "codemirror_mode": {
    "name": "ipython",
    "version": 3
   },
   "file_extension": ".py",
   "mimetype": "text/x-python",
   "name": "python",
   "nbconvert_exporter": "python",
   "pygments_lexer": "ipython3",
   "version": "3.8.8"
  }
 },
 "nbformat": 4,
 "nbformat_minor": 5
}
